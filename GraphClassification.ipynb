{
  "cells": [
    {
      "cell_type": "markdown",
      "metadata": {
        "id": "view-in-github",
        "colab_type": "text"
      },
      "source": [
        "<a href=\"https://colab.research.google.com/github/zeinabkamkar98/graph-classification/blob/main/GraphClassification.ipynb\" target=\"_parent\"><img src=\"https://colab.research.google.com/assets/colab-badge.svg\" alt=\"Open In Colab\"/></a>"
      ]
    },
    {
      "cell_type": "markdown",
      "metadata": {
        "id": "iWt0lyIP577x"
      },
      "source": [
        "# Graph Classification"
      ]
    },
    {
      "cell_type": "markdown",
      "metadata": {
        "id": "BI44huLa5772"
      },
      "source": [
        "### Import requirements "
      ]
    },
    {
      "cell_type": "code",
      "execution_count": 44,
      "metadata": {
        "collapsed": true,
        "id": "t-tjZlET5774"
      },
      "outputs": [],
      "source": [
        "import networkx as nx\n",
        "import numpy as np\n",
        "import pandas as pd\n",
        "\n",
        "from scipy import sparse\n",
        "\n",
        "from sklearn.preprocessing import LabelEncoder\n",
        "\n",
        "from sklearn.ensemble import RandomForestClassifier\n",
        "from sklearn.model_selection import StratifiedKFold\n",
        "\n",
        "from sklearn.model_selection import cross_val_score\n",
        "\n",
        "%matplotlib inline\n"
      ]
    },
    {
      "cell_type": "markdown",
      "metadata": {
        "id": "1-dB-X0i5777"
      },
      "source": [
        "### Loading datasets"
      ]
    },
    {
      "cell_type": "code",
      "execution_count": 45,
      "metadata": {
        "collapsed": true,
        "id": "RcpC3mYN5779"
      },
      "outputs": [],
      "source": [
        "class GraphDataset:\n",
        "    def __init__(self, folder_path=''):\n",
        "\n",
        "        G = nx.Graph()\n",
        "        data_adj = np.loadtxt(folder_path + '_A.txt', delimiter=',').astype(int)\n",
        "        data_graph_indicator = np.loadtxt(folder_path + '_graph_indicator.txt', delimiter=',').astype(int)\n",
        "        labels = np.loadtxt(folder_path + '_graph_labels.txt', delimiter=',').astype(int)\n",
        "\n",
        "        data_tuple = list(map(tuple, data_adj))\n",
        "        G.add_edges_from(data_tuple)\n",
        "        G.remove_nodes_from(list(nx.isolates(G)))\n",
        "\n",
        "        # split into graphs\n",
        "\n",
        "        le = LabelEncoder()\n",
        "        self.labels_ = le.fit_transform(labels)\n",
        "        self.n_classes_ = len(le.classes_)\n",
        "        self.n_graphs_ = len(self.labels_)\n",
        "\n",
        "        graph_num = data_graph_indicator.max()\n",
        "        node_list = np.arange(data_graph_indicator.shape[0]) + 1\n",
        "        self.graphs_ = []\n",
        "\n",
        "        for i in range(graph_num):\n",
        "\n",
        "            nodes = node_list[data_graph_indicator == i + 1]\n",
        "            G_sub = G.subgraph(nodes).copy()\n",
        "            \n",
        "            max_cc = max(nx.connected_components(G_sub), key=len)\n",
        "            G_sub = G_sub.subgraph(max_cc).copy()\n",
        "            G_sub.graph['label'] = self.labels_ [i]\n",
        "            nx.convert_node_labels_to_integers(G_sub)\n",
        "            self.graphs_.append(G_sub)     \n",
        "\n",
        "        self.graphs_ = np.array(self.graphs_)\n",
        "\n"
      ]
    },
    {
      "cell_type": "markdown",
      "source": [
        "#### Load github datasets\n",
        " If you wanna use github datasets run below cell. This datasets are limited (10 datasets), They're just for test."
      ],
      "metadata": {
        "id": "5gaJmabAs4oM"
      }
    },
    {
      "cell_type": "code",
      "execution_count": 46,
      "metadata": {
        "colab": {
          "base_uri": "https://localhost:8080/"
        },
        "id": "38oVtljLuy4P",
        "outputId": "68cd14c2-4e25-40a9-eac4-b50c282b1889"
      },
      "outputs": [
        {
          "output_type": "stream",
          "name": "stdout",
          "text": [
            "fatal: destination path 'graph-classification' already exists and is not an empty directory.\n"
          ]
        }
      ],
      "source": [
        "!git clone https://github.com/zeinabkamkar98/graph-classification.git\n",
        "\n",
        "data_pwd = 'graph-classification/DATASETS/'"
      ]
    },
    {
      "cell_type": "markdown",
      "source": [
        "#### Loading google drive datasets\n",
        "If you wanna use google drive datasets run below cell. All of converted dataset are in google drive. \n",
        "\n",
        "**Note**: For using google drive datasets you need to at first login in the related google account."
      ],
      "metadata": {
        "id": "nKgF2rQstVxd"
      }
    },
    {
      "cell_type": "code",
      "source": [
        "# from google.colab import drive\n",
        "# drive.mount('/content/drive')\n",
        "\n",
        "# data_pwd = 'drive/MyDrive/DATASETS/'"
      ],
      "metadata": {
        "id": "WdBCP9N0t2Gd"
      },
      "execution_count": 47,
      "outputs": []
    },
    {
      "cell_type": "markdown",
      "source": [
        "#### Select dataset\n",
        "Put Name of the datasets that you wanna use in `graphs_name` variables and the mean number of nodes in `embedding_dims` varaibles."
      ],
      "metadata": {
        "id": "bl4oGNbwxAqX"
      }
    },
    {
      "cell_type": "code",
      "execution_count": 48,
      "metadata": {
        "collapsed": true,
        "id": "t_4uGRnq577-"
      },
      "outputs": [],
      "source": [
        "graphs_name = ['DHFR','BZR','COX2','AIDS','ENZYMES','DD','MUTAG','NCI1','PROTEINS_full','PTC_MR']\n",
        "\n",
        "# Mean number of nodes per dataset\n",
        "embedding_dims = {'DHFR':42,'BZR':36,'COX2':42,'AIDS':16 ,'ENZYMES': 33,'DD':\t284,'MUTAG':18,'NCI1':30,'PROTEINS_full':39,'PTC_MR':14}"
      ]
    },
    {
      "cell_type": "code",
      "execution_count": 49,
      "metadata": {
        "colab": {
          "base_uri": "https://localhost:8080/"
        },
        "id": "2ZKXxy30578A",
        "outputId": "67fe211f-09a3-4bc9-e483-feb0b7ef667a",
        "scrolled": false
      },
      "outputs": [
        {
          "output_type": "stream",
          "name": "stderr",
          "text": [
            "/usr/local/lib/python3.7/dist-packages/ipykernel_launcher.py:35: VisibleDeprecationWarning: Creating an ndarray from ragged nested sequences (which is a list-or-tuple of lists-or-tuples-or ndarrays with different lengths or shapes) is deprecated. If you meant to do this, you must specify 'dtype=object' when creating the ndarray.\n"
          ]
        },
        {
          "output_type": "stream",
          "name": "stdout",
          "text": [
            "DHFR  => loaded\n",
            "BZR  => loaded\n",
            "COX2  => loaded\n",
            "AIDS  => loaded\n",
            "ENZYMES  => loaded\n",
            "DD  => loaded\n",
            "MUTAG  => loaded\n",
            "NCI1  => loaded\n",
            "PROTEINS_full  => loaded\n",
            "PTC_MR  => loaded\n"
          ]
        }
      ],
      "source": [
        "datasets = {}\n",
        "for gn in graphs_name:\n",
        "    datasets[gn] = GraphDataset(folder_path=data_pwd + gn + '/' + gn)\n",
        "    print(gn,\" => loaded\")"
      ]
    },
    {
      "cell_type": "markdown",
      "metadata": {
        "id": "Pf9NXcwa578B"
      },
      "source": [
        "### Spectral embedding, reshaping and training"
      ]
    },
    {
      "cell_type": "markdown",
      "metadata": {
        "id": "VR2_N6_a578B"
      },
      "source": [
        "Embedding of the nodes: creation of the spectral features"
      ]
    },
    {
      "cell_type": "code",
      "execution_count": 50,
      "metadata": {
        "collapsed": true,
        "id": "GTxn4Fiq578D"
      },
      "outputs": [],
      "source": [
        "def padded_spectral(graph, embedding_dimension=16, normalized=True):\n",
        "    \n",
        "    # Padding with zeros\n",
        "    embedding = np.zeros(embedding_dimension)\n",
        "    \n",
        "    # Usage of networkx graph objects\n",
        "    adj_matrix = nx.adj_matrix(graph)\n",
        "    n_nodes, m_nodes = adj_matrix.shape\n",
        "    k = min(embedding_dimension + 1, n_nodes - 1)\n",
        "\n",
        "    if normalized:\n",
        "        laplacian = nx.normalized_laplacian_matrix(graph)\n",
        "    else:\n",
        "        laplacian = nx.laplacian_matrix(graph)\n",
        "\n",
        "    # Minus the eigen decomposition of minus the Laplacian is more stable than directly\n",
        "    # computing the eigen decomposition of the Laplacian\n",
        "    \n",
        "    v0 = np.random.uniform(-1, 1, laplacian.shape[0])\n",
        "    eigenvalues = sparse.linalg.eigsh(-laplacian, k=k, sigma=1.0, which='LM', tol=1e-6, v0=v0, return_eigenvectors=False)\n",
        "    embedding[:len(eigenvalues)-1] = sorted(-eigenvalues)[1:]\n",
        "    \n",
        "    return embedding"
      ]
    },
    {
      "cell_type": "code",
      "execution_count": 51,
      "metadata": {
        "collapsed": true,
        "id": "Agyb3gtR578D"
      },
      "outputs": [],
      "source": [
        "def dataset_embedding(dataset, embedding_dim, normalized=True):\n",
        "\n",
        "    list_graphs = []\n",
        "    for g in dataset.graphs_:\n",
        "        x = padded_spectral(g, embedding_dim, normalized)\n",
        "        y = g.graph['label']\n",
        "\n",
        "        list_graphs.append((x, y))\n",
        "\n",
        "    X = np.array([l[0] for l in list_graphs])\n",
        "    labels = np.array([l[1] for l in list_graphs])\n",
        "    \n",
        "    return X, labels"
      ]
    },
    {
      "cell_type": "code",
      "execution_count": 52,
      "metadata": {
        "colab": {
          "base_uri": "https://localhost:8080/"
        },
        "id": "qgNK-vUW578F",
        "outputId": "bcee1e27-472b-475b-b447-0df62db4e624"
      },
      "outputs": [
        {
          "output_type": "stream",
          "name": "stderr",
          "text": [
            "/usr/local/lib/python3.7/dist-packages/ipykernel_launcher.py:7: DeprecationWarning: adj_matrix is deprecated and will be removed in version 3.0.\n",
            "Use `adjacency_matrix` instead\n",
            "\n",
            "  import sys\n"
          ]
        }
      ],
      "source": [
        "embedded_datasets = {}\n",
        "\n",
        "for name, dataset in datasets.items():\n",
        "    k = embedding_dims[name]\n",
        "    X, y = dataset_embedding(dataset, k)\n",
        "    embedded_datasets[name] = {'X': X, 'y': y}"
      ]
    },
    {
      "cell_type": "markdown",
      "metadata": {
        "id": "m-Lo9DAg578G"
      },
      "source": [
        "Training for all datasets and embedding dimensions"
      ]
    },
    {
      "cell_type": "code",
      "execution_count": 53,
      "metadata": {
        "colab": {
          "base_uri": "https://localhost:8080/"
        },
        "id": "MAsEPRMX578H",
        "outputId": "ff2cb829-4a98-489d-8ff3-494150582782"
      },
      "outputs": [
        {
          "output_type": "stream",
          "name": "stdout",
          "text": [
            "         Dataset  Accuracy\n",
            "0           DHFR  0.780316\n",
            "1            BZR  0.834451\n",
            "2           COX2  0.775254\n",
            "3           AIDS  0.998500\n",
            "4        ENZYMES  0.438333\n",
            "5             DD  0.753057\n",
            "6          MUTAG  0.877778\n",
            "7           NCI1  0.750122\n",
            "8  PROTEINS_full  0.724147\n",
            "9         PTC_MR  0.595378\n"
          ]
        }
      ],
      "source": [
        "rf_parameters = {'n_estimators': 500, 'max_depth': 100}\n",
        "data_frame={'Dataset':[],'Accuracy':[]}\n",
        "\n",
        "for name, dataset in datasets.items():\n",
        "\n",
        "    X, y = embedded_datasets[name]['X'], embedded_datasets[name]['y']\n",
        "\n",
        "    rf = RandomForestClassifier(**rf_parameters, random_state=1, class_weight='balanced') \n",
        "    skf = StratifiedKFold(n_splits=10, shuffle=True, random_state=1)\n",
        "\n",
        "    cv_results = cross_val_score(rf, X, y, n_jobs=1, cv=skf, scoring='accuracy')\n",
        "    data_frame['Dataset'].append(name)\n",
        "    data_frame['Accuracy'].append(np.mean(cv_results))\n",
        "    \n",
        "print(pd.DataFrame(data_frame))"
      ]
    }
  ],
  "metadata": {
    "colab": {
      "collapsed_sections": [],
      "provenance": [],
      "toc_visible": true,
      "include_colab_link": true
    },
    "kernelspec": {
      "display_name": "Python 3",
      "language": "python",
      "name": "python3"
    },
    "language_info": {
      "codemirror_mode": {
        "name": "ipython",
        "version": 3
      },
      "file_extension": ".py",
      "mimetype": "text/x-python",
      "name": "python",
      "nbconvert_exporter": "python",
      "pygments_lexer": "ipython3",
      "version": "3.6.3"
    }
  },
  "nbformat": 4,
  "nbformat_minor": 0
}